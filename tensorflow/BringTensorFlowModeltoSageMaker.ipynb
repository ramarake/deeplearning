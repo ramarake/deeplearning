{
 "cells": [
  {
   "cell_type": "code",
   "execution_count": 1,
   "id": "da8e6228",
   "metadata": {},
   "outputs": [],
   "source": [
    "import boto3, re\n",
    "from sagemaker import get_execution_role\n",
    "\n",
    "role = get_execution_role()"
   ]
  },
  {
   "cell_type": "code",
   "execution_count": 2,
   "id": "c03a5959",
   "metadata": {},
   "outputs": [],
   "source": [
    "import os\n",
    "import time\n",
    "import tensorflow as tf\n",
    "import numpy as np\n",
    "import sagemaker\n",
    "sagemaker_session = sagemaker.Session()"
   ]
  },
  {
   "cell_type": "code",
   "execution_count": 8,
   "id": "26a1bcfd",
   "metadata": {},
   "outputs": [],
   "source": [
    "#Number of categories to predict\n",
    "LABEL_DIMENSIONS = 10\n",
    "DATA_SHAPE = (28,28,1)\n",
    "CHANN =1\n",
    "# Train the dataset\n",
    "BATCH_SIZE = 512\n",
    "EPOCHS =60"
   ]
  },
  {
   "cell_type": "code",
   "execution_count": 4,
   "id": "71876d76",
   "metadata": {},
   "outputs": [],
   "source": [
    "\n",
    "def build_model(input_shape,number_dimensions):\n",
    "    #using functional api\n",
    "    input = tf.keras.Input(shape=input_shape)\n",
    "    \n",
    "    #Create convulational layer\n",
    "    op = tf.keras.layers.Conv2D(filters=32, kernel_size=(3,3) , activation='relu')(input)\n",
    "    op = tf.keras.layers.MaxPooling2D(pool_size=(2,2) , strides=2)(op) \n",
    "    \n",
    "    op = tf.keras.layers.Conv2D(filters=64, kernel_size=(3,3) , activation='relu')(op)\n",
    "    op = tf.keras.layers.MaxPooling2D(pool_size=(2,2) , strides=2)(op) \n",
    "    \n",
    "    op = tf.keras.layers.Conv2D(filters=64, kernel_size=(3,3) , activation='relu')(op)\n",
    "    \n",
    "    op = tf.keras.layers.Flatten()(op)\n",
    "    \n",
    "    #Create dense layer\n",
    "    op = tf.keras.layers.Dense(64,activation='relu')(op)\n",
    "    \n",
    "    predictions = tf.keras.layers.Dense(number_dimensions,activation='softmax')(op)\n",
    "    \n",
    "    model = tf.keras.Model(inputs=input , outputs=predictions)\n",
    "    return model"
   ]
  },
  {
   "cell_type": "code",
   "execution_count": 5,
   "id": "cd0ebda4",
   "metadata": {},
   "outputs": [],
   "source": [
    "def create_model():\n",
    "    model = build_model(DATA_SHAPE,LABEL_DIMENSIONS)\n",
    "    #Compile the model\n",
    "    model.compile(loss = 'categorical_crossentropy',\n",
    "             optimizer = tf.keras.optimizers.SGD(),\n",
    "             metrics=['accuracy'])\n",
    "    return model"
   ]
  },
  {
   "cell_type": "code",
   "execution_count": 6,
   "id": "513a4942",
   "metadata": {},
   "outputs": [
    {
     "name": "stdout",
     "output_type": "stream",
     "text": [
      "TRAINING_SIZE 60000 TEST_SIZE, 10000.\n",
      "TRAIN LABEL SIZE (60000, 10) TEST LABEL SIZE, (10000, 10)\n"
     ]
    }
   ],
   "source": [
    "(train_images,train_labels),(test_images,test_labels) = tf.keras.datasets.fashion_mnist.load_data()\n",
    "train_images = np.asarray(train_images,dtype=np.float32)/255\n",
    "test_images = np.asarray(test_images,dtype=np.float32)/255\n",
    "\n",
    "TRAINING_SIZE = len(train_images)\n",
    "TEST_SIZE = len(test_images)\n",
    "print (f\"TRAINING_SIZE {TRAINING_SIZE} TEST_SIZE, {TEST_SIZE}.\")\n",
    "\n",
    "#Add channels \n",
    "train_images = train_images.reshape((TRAINING_SIZE,train_images.shape[1],train_images.shape[2],CHANN))\n",
    "test_images = test_images.reshape((TEST_SIZE,test_images.shape[1],test_images.shape[2],CHANN))\n",
    "\n",
    "# convert categorical values\n",
    "train_labels = tf.keras.utils.to_categorical(train_labels,LABEL_DIMENSIONS)\n",
    "test_labels = tf.keras.utils.to_categorical(test_labels,LABEL_DIMENSIONS)\n",
    "\n",
    "#Cast labels to float\n",
    "train_labels = train_labels.astype(np.float32)\n",
    "test_labels = test_labels.astype(np.float32)\n",
    "print (f\"TRAIN LABEL SIZE {train_labels.shape} TEST LABEL SIZE, {test_labels.shape}\")\n"
   ]
  },
  {
   "cell_type": "code",
   "execution_count": 7,
   "id": "236ee380",
   "metadata": {},
   "outputs": [],
   "source": [
    "tf_model = create_model()"
   ]
  },
  {
   "cell_type": "code",
   "execution_count": 9,
   "id": "94d2313c",
   "metadata": {},
   "outputs": [
    {
     "name": "stdout",
     "output_type": "stream",
     "text": [
      "Train on 60000 samples\n",
      "Epoch 1/60\n",
      "60000/60000 [==============================] - 7s 119us/sample - loss: 2.2658 - accuracy: 0.2479\n",
      "Epoch 2/60\n",
      "60000/60000 [==============================] - 7s 111us/sample - loss: 1.9661 - accuracy: 0.4196\n",
      "Epoch 3/60\n",
      "60000/60000 [==============================] - 7s 122us/sample - loss: 1.1712 - accuracy: 0.5907\n",
      "Epoch 4/60\n",
      "60000/60000 [==============================] - 8s 129us/sample - loss: 0.9522 - accuracy: 0.6468\n",
      "Epoch 5/60\n",
      "60000/60000 [==============================] - 7s 110us/sample - loss: 0.8591 - accuracy: 0.6799\n",
      "Epoch 6/60\n",
      "60000/60000 [==============================] - 7s 110us/sample - loss: 0.7988 - accuracy: 0.7003\n",
      "Epoch 7/60\n",
      "60000/60000 [==============================] - 7s 111us/sample - loss: 0.7576 - accuracy: 0.7132\n",
      "Epoch 8/60\n",
      "60000/60000 [==============================] - 7s 110us/sample - loss: 0.7283 - accuracy: 0.7238\n",
      "Epoch 9/60\n",
      "60000/60000 [==============================] - 7s 111us/sample - loss: 0.6997 - accuracy: 0.7335\n",
      "Epoch 10/60\n",
      "60000/60000 [==============================] - 7s 110us/sample - loss: 0.6789 - accuracy: 0.7439\n",
      "Epoch 11/60\n",
      "60000/60000 [==============================] - 7s 111us/sample - loss: 0.6648 - accuracy: 0.7461\n",
      "Epoch 12/60\n",
      "60000/60000 [==============================] - 7s 111us/sample - loss: 0.6459 - accuracy: 0.7544\n",
      "Epoch 13/60\n",
      "60000/60000 [==============================] - 7s 110us/sample - loss: 0.6305 - accuracy: 0.7603\n",
      "Epoch 14/60\n",
      "60000/60000 [==============================] - 7s 111us/sample - loss: 0.6175 - accuracy: 0.7656\n",
      "Epoch 15/60\n",
      "60000/60000 [==============================] - 7s 111us/sample - loss: 0.6035 - accuracy: 0.7695\n",
      "Epoch 16/60\n",
      "60000/60000 [==============================] - 7s 110us/sample - loss: 0.5946 - accuracy: 0.7747\n",
      "Epoch 17/60\n",
      "60000/60000 [==============================] - 7s 110us/sample - loss: 0.5809 - accuracy: 0.7805\n",
      "Epoch 18/60\n",
      "60000/60000 [==============================] - 7s 111us/sample - loss: 0.5715 - accuracy: 0.7827\n",
      "Epoch 19/60\n",
      "60000/60000 [==============================] - 7s 111us/sample - loss: 0.5641 - accuracy: 0.7858\n",
      "Epoch 20/60\n",
      "60000/60000 [==============================] - 7s 110us/sample - loss: 0.5544 - accuracy: 0.7912\n",
      "Epoch 21/60\n",
      "60000/60000 [==============================] - 7s 110us/sample - loss: 0.5456 - accuracy: 0.7950\n",
      "Epoch 22/60\n",
      "60000/60000 [==============================] - 7s 111us/sample - loss: 0.5413 - accuracy: 0.7964\n",
      "Epoch 23/60\n",
      "60000/60000 [==============================] - 7s 110us/sample - loss: 0.5270 - accuracy: 0.8023\n",
      "Epoch 24/60\n",
      "60000/60000 [==============================] - 7s 110us/sample - loss: 0.5224 - accuracy: 0.8037\n",
      "Epoch 25/60\n",
      "60000/60000 [==============================] - 7s 111us/sample - loss: 0.5164 - accuracy: 0.8058\n",
      "Epoch 26/60\n",
      "60000/60000 [==============================] - 7s 110us/sample - loss: 0.5104 - accuracy: 0.8089\n",
      "Epoch 27/60\n",
      "60000/60000 [==============================] - 7s 111us/sample - loss: 0.5035 - accuracy: 0.8110\n",
      "Epoch 28/60\n",
      "60000/60000 [==============================] - 7s 110us/sample - loss: 0.4985 - accuracy: 0.8141\n",
      "Epoch 29/60\n",
      "60000/60000 [==============================] - 7s 110us/sample - loss: 0.4952 - accuracy: 0.8155\n",
      "Epoch 30/60\n",
      "60000/60000 [==============================] - 8s 128us/sample - loss: 0.4873 - accuracy: 0.8193\n",
      "Epoch 31/60\n",
      "60000/60000 [==============================] - 7s 123us/sample - loss: 0.4815 - accuracy: 0.8207\n",
      "Epoch 32/60\n",
      "60000/60000 [==============================] - 7s 111us/sample - loss: 0.4785 - accuracy: 0.8228\n",
      "Epoch 33/60\n",
      "60000/60000 [==============================] - 7s 110us/sample - loss: 0.4728 - accuracy: 0.8249\n",
      "Epoch 34/60\n",
      "60000/60000 [==============================] - 7s 111us/sample - loss: 0.4682 - accuracy: 0.8281\n",
      "Epoch 35/60\n",
      "60000/60000 [==============================] - 7s 110us/sample - loss: 0.4638 - accuracy: 0.8273\n",
      "Epoch 36/60\n",
      "60000/60000 [==============================] - 7s 111us/sample - loss: 0.4617 - accuracy: 0.8302\n",
      "Epoch 37/60\n",
      "60000/60000 [==============================] - 7s 111us/sample - loss: 0.4537 - accuracy: 0.8343\n",
      "Epoch 38/60\n",
      "60000/60000 [==============================] - 7s 111us/sample - loss: 0.4541 - accuracy: 0.8335\n",
      "Epoch 39/60\n",
      "60000/60000 [==============================] - 7s 111us/sample - loss: 0.4501 - accuracy: 0.8336\n",
      "Epoch 40/60\n",
      "60000/60000 [==============================] - 7s 111us/sample - loss: 0.4423 - accuracy: 0.8391\n",
      "Epoch 41/60\n",
      "60000/60000 [==============================] - 7s 111us/sample - loss: 0.4412 - accuracy: 0.8390\n",
      "Epoch 42/60\n",
      "60000/60000 [==============================] - 7s 110us/sample - loss: 0.4363 - accuracy: 0.8400\n",
      "Epoch 43/60\n",
      "60000/60000 [==============================] - 7s 110us/sample - loss: 0.4321 - accuracy: 0.8432\n",
      "Epoch 44/60\n",
      "60000/60000 [==============================] - 7s 110us/sample - loss: 0.4283 - accuracy: 0.8446\n",
      "Epoch 45/60\n",
      "60000/60000 [==============================] - 7s 111us/sample - loss: 0.4259 - accuracy: 0.8449\n",
      "Epoch 46/60\n",
      "60000/60000 [==============================] - 7s 111us/sample - loss: 0.4238 - accuracy: 0.8472\n",
      "Epoch 47/60\n",
      "60000/60000 [==============================] - 7s 111us/sample - loss: 0.4192 - accuracy: 0.8483\n",
      "Epoch 48/60\n",
      "60000/60000 [==============================] - 7s 110us/sample - loss: 0.4165 - accuracy: 0.8488\n",
      "Epoch 49/60\n",
      "60000/60000 [==============================] - 7s 111us/sample - loss: 0.4146 - accuracy: 0.8501\n",
      "Epoch 50/60\n",
      "60000/60000 [==============================] - 7s 111us/sample - loss: 0.4123 - accuracy: 0.8511\n",
      "Epoch 51/60\n",
      "60000/60000 [==============================] - 7s 111us/sample - loss: 0.4086 - accuracy: 0.8529\n",
      "Epoch 52/60\n",
      "60000/60000 [==============================] - 7s 111us/sample - loss: 0.4066 - accuracy: 0.8526\n",
      "Epoch 53/60\n",
      "60000/60000 [==============================] - 7s 111us/sample - loss: 0.3994 - accuracy: 0.8564\n",
      "Epoch 54/60\n",
      "60000/60000 [==============================] - 7s 111us/sample - loss: 0.3992 - accuracy: 0.8555\n",
      "Epoch 55/60\n",
      "60000/60000 [==============================] - 7s 111us/sample - loss: 0.3982 - accuracy: 0.8559\n",
      "Epoch 56/60\n",
      "60000/60000 [==============================] - 7s 110us/sample - loss: 0.3951 - accuracy: 0.8559\n",
      "Epoch 57/60\n",
      "60000/60000 [==============================] - 8s 138us/sample - loss: 0.3922 - accuracy: 0.8582\n",
      "Epoch 58/60\n",
      "60000/60000 [==============================] - 7s 113us/sample - loss: 0.3890 - accuracy: 0.8591\n",
      "Epoch 59/60\n",
      "60000/60000 [==============================] - 7s 110us/sample - loss: 0.3891 - accuracy: 0.8600\n",
      "Epoch 60/60\n",
      "60000/60000 [==============================] - 7s 110us/sample - loss: 0.3854 - accuracy: 0.8621\n"
     ]
    },
    {
     "data": {
      "text/plain": [
       "['loss', 'accuracy']"
      ]
     },
     "execution_count": 9,
     "metadata": {},
     "output_type": "execute_result"
    }
   ],
   "source": [
    "tf_model.fit(train_images,train_labels,batch_size=BATCH_SIZE, epochs=EPOCHS,shuffle=True)\n",
    "tf_model.metrics_names"
   ]
  },
  {
   "cell_type": "code",
   "execution_count": 10,
   "id": "66564bef",
   "metadata": {},
   "outputs": [
    {
     "name": "stdout",
     "output_type": "stream",
     "text": [
      "Predicted:> 9 Actual:> 9\n",
      "Predicted:> 2 Actual:> 2\n",
      "Predicted:> 1 Actual:> 1\n",
      "Predicted:> 1 Actual:> 1\n",
      "Predicted:> 6 Actual:> 6\n",
      "Predicted:> 1 Actual:> 1\n",
      "Predicted:> 4 Actual:> 4\n",
      "Predicted:> 6 Actual:> 6\n",
      "Predicted:> 5 Actual:> 5\n",
      "Predicted:> 7 Actual:> 7\n"
     ]
    }
   ],
   "source": [
    "#Prediction on sample data\n",
    "predicttest_data = test_images[0:10]\n",
    "predicttest_labels = test_labels[0:10]\n",
    "result = tf_model.predict(predicttest_data)\n",
    "for pred,exp in zip(result,predicttest_labels):\n",
    "    print(f\"Predicted:> {np.argmax(pred)} Actual:> {np.argmax(exp)}\")"
   ]
  },
  {
   "cell_type": "code",
   "execution_count": 12,
   "id": "7311d087",
   "metadata": {},
   "outputs": [
    {
     "name": "stdout",
     "output_type": "stream",
     "text": [
      "INFO:tensorflow:Assets written to: keras_model/assets\n",
      "<tensorflow.python.keras.engine.training.Model object at 0x7f05c7fbaf60>\n"
     ]
    }
   ],
   "source": [
    "# Create SageMaker specific export\n",
    "OUTDIR = 'keras_model'\n",
    "import shutil\n",
    "shutil.rmtree(OUTDIR, ignore_errors = True) # start fresh each time\n",
    "tf_model.save(OUTDIR)\n",
    "print(tf_model)"
   ]
  },
  {
   "cell_type": "code",
   "execution_count": 13,
   "id": "dd9eef47",
   "metadata": {},
   "outputs": [
    {
     "name": "stdout",
     "output_type": "stream",
     "text": [
      "['serving_default']\n"
     ]
    }
   ],
   "source": [
    "loaded = tf.saved_model.load(OUTDIR)\n",
    "print(list(loaded.signatures.keys()))  # [\"serving_default\"]"
   ]
  },
  {
   "cell_type": "code",
   "execution_count": 14,
   "id": "533272ab",
   "metadata": {},
   "outputs": [
    {
     "data": {
      "text/plain": [
       "'2.1.3'"
      ]
     },
     "execution_count": 14,
     "metadata": {},
     "output_type": "execute_result"
    }
   ],
   "source": [
    "loaded.tensorflow_version"
   ]
  },
  {
   "cell_type": "code",
   "execution_count": 15,
   "id": "da9a6edc",
   "metadata": {},
   "outputs": [],
   "source": [
    "#Version 1 added manually\n",
    "import tarfile\n",
    "with tarfile.open('model.tar.gz', mode='w:gz') as archive:\n",
    "    archive.add(OUTDIR, arcname=f'{OUTDIR}/1', recursive=True)\n"
   ]
  },
  {
   "cell_type": "code",
   "execution_count": 16,
   "id": "2ce4b90e",
   "metadata": {},
   "outputs": [],
   "source": [
    "inputs = sagemaker_session.upload_data(path=\"model.tar.gz\", key_prefix=\"model\")"
   ]
  },
  {
   "cell_type": "code",
   "execution_count": 23,
   "id": "866ef05d",
   "metadata": {},
   "outputs": [],
   "source": [
    "from sagemaker.tensorflow.model import TensorFlowModel\n",
    "\n",
    "sagemaker_model = TensorFlowModel(\n",
    "    model_data=\"s3://\" + sagemaker_session.default_bucket() + \"/model/model.tar.gz\",\n",
    "    role=role,\n",
    "    framework_version=\"2.1.3\"\n",
    ")"
   ]
  },
  {
   "cell_type": "code",
   "execution_count": 24,
   "id": "ff995459",
   "metadata": {},
   "outputs": [
    {
     "name": "stderr",
     "output_type": "stream",
     "text": [
      "update_endpoint is a no-op in sagemaker>=2.\n",
      "See: https://sagemaker.readthedocs.io/en/stable/v2.html for details.\n"
     ]
    },
    {
     "name": "stdout",
     "output_type": "stream",
     "text": [
      "-------------!CPU times: user 307 ms, sys: 28.2 ms, total: 335 ms\n",
      "Wall time: 6min 31s\n"
     ]
    }
   ],
   "source": [
    "%%time\n",
    "predictor = sagemaker_model.deploy(initial_instance_count=1, instance_type=\"ml.m5.xlarge\")"
   ]
  },
  {
   "cell_type": "code",
   "execution_count": 25,
   "id": "0c7f54fd",
   "metadata": {},
   "outputs": [
    {
     "data": {
      "text/plain": [
       "'tensorflow-inference-2021-06-16-18-26-09-626'"
      ]
     },
     "execution_count": 25,
     "metadata": {},
     "output_type": "execute_result"
    }
   ],
   "source": [
    "predictor.endpoint_name"
   ]
  },
  {
   "cell_type": "code",
   "execution_count": null,
   "id": "626b64d4",
   "metadata": {},
   "outputs": [],
   "source": [
    "#from sagemaker.tensorflow.model import TensorFlowPredictor\n",
    "#predictor = sagemaker.tensorflow.model.TensorFlowPredictor('tensorflow-inference-2021-06-11-21-28-10-024', sagemaker_session=sagemaker_session)"
   ]
  },
  {
   "cell_type": "code",
   "execution_count": 26,
   "id": "b8a3c280",
   "metadata": {},
   "outputs": [
    {
     "name": "stdout",
     "output_type": "stream",
     "text": [
      "Predicted:> 9 Actual:> 9\n",
      "Predicted:> 2 Actual:> 2\n",
      "Predicted:> 1 Actual:> 1\n",
      "Predicted:> 1 Actual:> 1\n",
      "Predicted:> 6 Actual:> 6\n",
      "Predicted:> 1 Actual:> 1\n",
      "Predicted:> 4 Actual:> 4\n",
      "Predicted:> 6 Actual:> 6\n",
      "Predicted:> 5 Actual:> 5\n",
      "Predicted:> 7 Actual:> 7\n"
     ]
    }
   ],
   "source": [
    "data = {\"signature_name\": \"serving_default\", \"instances\": predicttest_data.tolist()}\n",
    "result =predictor.predict(data)\n",
    "for pred,exp in zip(result['predictions'],predicttest_labels):\n",
    "    print(f\"Predicted:> {np.argmax(pred)} Actual:> {np.argmax(exp)}\")"
   ]
  },
  {
   "cell_type": "code",
   "execution_count": 28,
   "id": "752bf4c8",
   "metadata": {},
   "outputs": [
    {
     "ename": "ClientError",
     "evalue": "An error occurred (ValidationException) when calling the DeleteEndpointConfig operation: Could not find endpoint configuration \"arn:aws:sagemaker:us-east-1:613438712599:endpoint-config/tensorflow-inference-2021-06-16-18-26-09-626\".",
     "output_type": "error",
     "traceback": [
      "\u001b[0;31m---------------------------------------------------------------------------\u001b[0m",
      "\u001b[0;31mClientError\u001b[0m                               Traceback (most recent call last)",
      "\u001b[0;32m<ipython-input-28-9dbbcf45efe1>\u001b[0m in \u001b[0;36m<module>\u001b[0;34m\u001b[0m\n\u001b[0;32m----> 1\u001b[0;31m \u001b[0mpredictor\u001b[0m\u001b[0;34m.\u001b[0m\u001b[0mdelete_endpoint\u001b[0m\u001b[0;34m(\u001b[0m\u001b[0;34m)\u001b[0m\u001b[0;34m\u001b[0m\u001b[0;34m\u001b[0m\u001b[0m\n\u001b[0m",
      "\u001b[0;32m~/anaconda3/envs/tensorflow2_p36/lib/python3.6/site-packages/sagemaker/predictor.py\u001b[0m in \u001b[0;36mdelete_endpoint\u001b[0;34m(self, delete_endpoint_config)\u001b[0m\n\u001b[1;32m    302\u001b[0m         \"\"\"\n\u001b[1;32m    303\u001b[0m         \u001b[0;32mif\u001b[0m \u001b[0mdelete_endpoint_config\u001b[0m\u001b[0;34m:\u001b[0m\u001b[0;34m\u001b[0m\u001b[0;34m\u001b[0m\u001b[0m\n\u001b[0;32m--> 304\u001b[0;31m             \u001b[0mself\u001b[0m\u001b[0;34m.\u001b[0m\u001b[0m_delete_endpoint_config\u001b[0m\u001b[0;34m(\u001b[0m\u001b[0;34m)\u001b[0m\u001b[0;34m\u001b[0m\u001b[0;34m\u001b[0m\u001b[0m\n\u001b[0m\u001b[1;32m    305\u001b[0m \u001b[0;34m\u001b[0m\u001b[0m\n\u001b[1;32m    306\u001b[0m         \u001b[0mself\u001b[0m\u001b[0;34m.\u001b[0m\u001b[0msagemaker_session\u001b[0m\u001b[0;34m.\u001b[0m\u001b[0mdelete_endpoint\u001b[0m\u001b[0;34m(\u001b[0m\u001b[0mself\u001b[0m\u001b[0;34m.\u001b[0m\u001b[0mendpoint_name\u001b[0m\u001b[0;34m)\u001b[0m\u001b[0;34m\u001b[0m\u001b[0;34m\u001b[0m\u001b[0m\n",
      "\u001b[0;32m~/anaconda3/envs/tensorflow2_p36/lib/python3.6/site-packages/sagemaker/predictor.py\u001b[0m in \u001b[0;36m_delete_endpoint_config\u001b[0;34m(self)\u001b[0m\n\u001b[1;32m    287\u001b[0m         \u001b[0;34m\"\"\"Delete the Amazon SageMaker endpoint configuration\"\"\"\u001b[0m\u001b[0;34m\u001b[0m\u001b[0;34m\u001b[0m\u001b[0m\n\u001b[1;32m    288\u001b[0m         \u001b[0mcurrent_endpoint_config_name\u001b[0m \u001b[0;34m=\u001b[0m \u001b[0mself\u001b[0m\u001b[0;34m.\u001b[0m\u001b[0m_get_endpoint_config_name\u001b[0m\u001b[0;34m(\u001b[0m\u001b[0;34m)\u001b[0m\u001b[0;34m\u001b[0m\u001b[0;34m\u001b[0m\u001b[0m\n\u001b[0;32m--> 289\u001b[0;31m         \u001b[0mself\u001b[0m\u001b[0;34m.\u001b[0m\u001b[0msagemaker_session\u001b[0m\u001b[0;34m.\u001b[0m\u001b[0mdelete_endpoint_config\u001b[0m\u001b[0;34m(\u001b[0m\u001b[0mcurrent_endpoint_config_name\u001b[0m\u001b[0;34m)\u001b[0m\u001b[0;34m\u001b[0m\u001b[0;34m\u001b[0m\u001b[0m\n\u001b[0m\u001b[1;32m    290\u001b[0m \u001b[0;34m\u001b[0m\u001b[0m\n\u001b[1;32m    291\u001b[0m     \u001b[0;32mdef\u001b[0m \u001b[0mdelete_endpoint\u001b[0m\u001b[0;34m(\u001b[0m\u001b[0mself\u001b[0m\u001b[0;34m,\u001b[0m \u001b[0mdelete_endpoint_config\u001b[0m\u001b[0;34m=\u001b[0m\u001b[0;32mTrue\u001b[0m\u001b[0;34m)\u001b[0m\u001b[0;34m:\u001b[0m\u001b[0;34m\u001b[0m\u001b[0;34m\u001b[0m\u001b[0m\n",
      "\u001b[0;32m~/anaconda3/envs/tensorflow2_p36/lib/python3.6/site-packages/sagemaker/session.py\u001b[0m in \u001b[0;36mdelete_endpoint_config\u001b[0;34m(self, endpoint_config_name)\u001b[0m\n\u001b[1;32m   3032\u001b[0m         \"\"\"\n\u001b[1;32m   3033\u001b[0m         \u001b[0mLOGGER\u001b[0m\u001b[0;34m.\u001b[0m\u001b[0minfo\u001b[0m\u001b[0;34m(\u001b[0m\u001b[0;34m\"Deleting endpoint configuration with name: %s\"\u001b[0m\u001b[0;34m,\u001b[0m \u001b[0mendpoint_config_name\u001b[0m\u001b[0;34m)\u001b[0m\u001b[0;34m\u001b[0m\u001b[0;34m\u001b[0m\u001b[0m\n\u001b[0;32m-> 3034\u001b[0;31m         \u001b[0mself\u001b[0m\u001b[0;34m.\u001b[0m\u001b[0msagemaker_client\u001b[0m\u001b[0;34m.\u001b[0m\u001b[0mdelete_endpoint_config\u001b[0m\u001b[0;34m(\u001b[0m\u001b[0mEndpointConfigName\u001b[0m\u001b[0;34m=\u001b[0m\u001b[0mendpoint_config_name\u001b[0m\u001b[0;34m)\u001b[0m\u001b[0;34m\u001b[0m\u001b[0;34m\u001b[0m\u001b[0m\n\u001b[0m\u001b[1;32m   3035\u001b[0m \u001b[0;34m\u001b[0m\u001b[0m\n\u001b[1;32m   3036\u001b[0m     \u001b[0;32mdef\u001b[0m \u001b[0mdelete_model\u001b[0m\u001b[0;34m(\u001b[0m\u001b[0mself\u001b[0m\u001b[0;34m,\u001b[0m \u001b[0mmodel_name\u001b[0m\u001b[0;34m)\u001b[0m\u001b[0;34m:\u001b[0m\u001b[0;34m\u001b[0m\u001b[0;34m\u001b[0m\u001b[0m\n",
      "\u001b[0;32m~/anaconda3/envs/tensorflow2_p36/lib/python3.6/site-packages/botocore/client.py\u001b[0m in \u001b[0;36m_api_call\u001b[0;34m(self, *args, **kwargs)\u001b[0m\n\u001b[1;32m    384\u001b[0m                     \"%s() only accepts keyword arguments.\" % py_operation_name)\n\u001b[1;32m    385\u001b[0m             \u001b[0;31m# The \"self\" in this scope is referring to the BaseClient.\u001b[0m\u001b[0;34m\u001b[0m\u001b[0;34m\u001b[0m\u001b[0;34m\u001b[0m\u001b[0m\n\u001b[0;32m--> 386\u001b[0;31m             \u001b[0;32mreturn\u001b[0m \u001b[0mself\u001b[0m\u001b[0;34m.\u001b[0m\u001b[0m_make_api_call\u001b[0m\u001b[0;34m(\u001b[0m\u001b[0moperation_name\u001b[0m\u001b[0;34m,\u001b[0m \u001b[0mkwargs\u001b[0m\u001b[0;34m)\u001b[0m\u001b[0;34m\u001b[0m\u001b[0;34m\u001b[0m\u001b[0m\n\u001b[0m\u001b[1;32m    387\u001b[0m \u001b[0;34m\u001b[0m\u001b[0m\n\u001b[1;32m    388\u001b[0m         \u001b[0m_api_call\u001b[0m\u001b[0;34m.\u001b[0m\u001b[0m__name__\u001b[0m \u001b[0;34m=\u001b[0m \u001b[0mstr\u001b[0m\u001b[0;34m(\u001b[0m\u001b[0mpy_operation_name\u001b[0m\u001b[0;34m)\u001b[0m\u001b[0;34m\u001b[0m\u001b[0;34m\u001b[0m\u001b[0m\n",
      "\u001b[0;32m~/anaconda3/envs/tensorflow2_p36/lib/python3.6/site-packages/botocore/client.py\u001b[0m in \u001b[0;36m_make_api_call\u001b[0;34m(self, operation_name, api_params)\u001b[0m\n\u001b[1;32m    703\u001b[0m             \u001b[0merror_code\u001b[0m \u001b[0;34m=\u001b[0m \u001b[0mparsed_response\u001b[0m\u001b[0;34m.\u001b[0m\u001b[0mget\u001b[0m\u001b[0;34m(\u001b[0m\u001b[0;34m\"Error\"\u001b[0m\u001b[0;34m,\u001b[0m \u001b[0;34m{\u001b[0m\u001b[0;34m}\u001b[0m\u001b[0;34m)\u001b[0m\u001b[0;34m.\u001b[0m\u001b[0mget\u001b[0m\u001b[0;34m(\u001b[0m\u001b[0;34m\"Code\"\u001b[0m\u001b[0;34m)\u001b[0m\u001b[0;34m\u001b[0m\u001b[0;34m\u001b[0m\u001b[0m\n\u001b[1;32m    704\u001b[0m             \u001b[0merror_class\u001b[0m \u001b[0;34m=\u001b[0m \u001b[0mself\u001b[0m\u001b[0;34m.\u001b[0m\u001b[0mexceptions\u001b[0m\u001b[0;34m.\u001b[0m\u001b[0mfrom_code\u001b[0m\u001b[0;34m(\u001b[0m\u001b[0merror_code\u001b[0m\u001b[0;34m)\u001b[0m\u001b[0;34m\u001b[0m\u001b[0;34m\u001b[0m\u001b[0m\n\u001b[0;32m--> 705\u001b[0;31m             \u001b[0;32mraise\u001b[0m \u001b[0merror_class\u001b[0m\u001b[0;34m(\u001b[0m\u001b[0mparsed_response\u001b[0m\u001b[0;34m,\u001b[0m \u001b[0moperation_name\u001b[0m\u001b[0;34m)\u001b[0m\u001b[0;34m\u001b[0m\u001b[0;34m\u001b[0m\u001b[0m\n\u001b[0m\u001b[1;32m    706\u001b[0m         \u001b[0;32melse\u001b[0m\u001b[0;34m:\u001b[0m\u001b[0;34m\u001b[0m\u001b[0;34m\u001b[0m\u001b[0m\n\u001b[1;32m    707\u001b[0m             \u001b[0;32mreturn\u001b[0m \u001b[0mparsed_response\u001b[0m\u001b[0;34m\u001b[0m\u001b[0;34m\u001b[0m\u001b[0m\n",
      "\u001b[0;31mClientError\u001b[0m: An error occurred (ValidationException) when calling the DeleteEndpointConfig operation: Could not find endpoint configuration \"arn:aws:sagemaker:us-east-1:613438712599:endpoint-config/tensorflow-inference-2021-06-16-18-26-09-626\"."
     ]
    }
   ],
   "source": [
    "predictor.delete_endpoint()"
   ]
  },
  {
   "cell_type": "code",
   "execution_count": null,
   "id": "275edee7",
   "metadata": {},
   "outputs": [],
   "source": []
  }
 ],
 "metadata": {
  "kernelspec": {
   "display_name": "conda_tensorflow2_p36",
   "language": "python",
   "name": "conda_tensorflow2_p36"
  },
  "language_info": {
   "codemirror_mode": {
    "name": "ipython",
    "version": 3
   },
   "file_extension": ".py",
   "mimetype": "text/x-python",
   "name": "python",
   "nbconvert_exporter": "python",
   "pygments_lexer": "ipython3",
   "version": "3.6.13"
  }
 },
 "nbformat": 4,
 "nbformat_minor": 5
}
